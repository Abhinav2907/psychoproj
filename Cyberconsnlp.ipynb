{
  "nbformat": 4,
  "nbformat_minor": 0,
  "metadata": {
    "colab": {
      "name": "Cyberconsnlp.ipynb",
      "version": "0.3.2",
      "provenance": []
    },
    "kernelspec": {
      "name": "python3",
      "display_name": "Python 3"
    },
    "accelerator": "GPU"
  },
  "cells": [
    {
      "cell_type": "code",
      "metadata": {
        "id": "hEab6qBqxj8H",
        "colab_type": "code",
        "colab": {}
      },
      "source": [
        "%reload_ext autoreload\n",
        "%autoreload 2\n",
        "%matplotlib inline"
      ],
      "execution_count": 0,
      "outputs": []
    },
    {
      "cell_type": "code",
      "metadata": {
        "id": "n_kQhki-xnSl",
        "colab_type": "code",
        "colab": {}
      },
      "source": [
        "\n",
        "from fastai.text import *"
      ],
      "execution_count": 0,
      "outputs": []
    },
    {
      "cell_type": "code",
      "metadata": {
        "id": "VGqhjUIQxuOl",
        "colab_type": "code",
        "colab": {}
      },
      "source": [
        "\n",
        "import pandas as pd\n",
        "d=pd.read_excel(io='bppfinal2.xls')\n",
        "d1=pd.read_excel(io='schfinal2.xlsx')\n",
        "d2=pd.read_excel(io='ocdfinal2.xlsx')"
      ],
      "execution_count": 0,
      "outputs": []
    },
    {
      "cell_type": "code",
      "metadata": {
        "id": "mYAfN0aCyOv0",
        "colab_type": "code",
        "colab": {
          "base_uri": "https://localhost:8080/",
          "height": 204
        },
        "outputId": "b35e363c-7291-40f3-9313-d6114a2ca711"
      },
      "source": [
        "d.head()"
      ],
      "execution_count": 43,
      "outputs": [
        {
          "output_type": "execute_result",
          "data": {
            "text/html": [
              "<div>\n",
              "<style scoped>\n",
              "    .dataframe tbody tr th:only-of-type {\n",
              "        vertical-align: middle;\n",
              "    }\n",
              "\n",
              "    .dataframe tbody tr th {\n",
              "        vertical-align: top;\n",
              "    }\n",
              "\n",
              "    .dataframe thead th {\n",
              "        text-align: right;\n",
              "    }\n",
              "</style>\n",
              "<table border=\"1\" class=\"dataframe\">\n",
              "  <thead>\n",
              "    <tr style=\"text-align: right;\">\n",
              "      <th></th>\n",
              "      <th>Statement</th>\n",
              "      <th>Disorder</th>\n",
              "    </tr>\n",
              "  </thead>\n",
              "  <tbody>\n",
              "    <tr>\n",
              "      <th>0</th>\n",
              "      <td>I’ve noticed an increase in my goal-directed a...</td>\n",
              "      <td>bipolar</td>\n",
              "    </tr>\n",
              "    <tr>\n",
              "      <th>1</th>\n",
              "      <td>I find that my thoughts race faster in my hea...</td>\n",
              "      <td>bipolar</td>\n",
              "    </tr>\n",
              "    <tr>\n",
              "      <th>2</th>\n",
              "      <td>Despite having no experience or particular tal...</td>\n",
              "      <td>bipolar</td>\n",
              "    </tr>\n",
              "    <tr>\n",
              "      <th>3</th>\n",
              "      <td>I engage in reckless activities — such as driv...</td>\n",
              "      <td>bipolar</td>\n",
              "    </tr>\n",
              "    <tr>\n",
              "      <th>4</th>\n",
              "      <td>Despite getting a lot less sleep than usual, ...</td>\n",
              "      <td>bipolar</td>\n",
              "    </tr>\n",
              "  </tbody>\n",
              "</table>\n",
              "</div>"
            ],
            "text/plain": [
              "                                           Statement Disorder\n",
              "0  I’ve noticed an increase in my goal-directed a...  bipolar\n",
              "1   I find that my thoughts race faster in my hea...  bipolar\n",
              "2  Despite having no experience or particular tal...  bipolar\n",
              "3  I engage in reckless activities — such as driv...  bipolar\n",
              "4   Despite getting a lot less sleep than usual, ...  bipolar"
            ]
          },
          "metadata": {
            "tags": []
          },
          "execution_count": 43
        }
      ]
    },
    {
      "cell_type": "code",
      "metadata": {
        "id": "Lbwuysx_yV-U",
        "colab_type": "code",
        "colab": {
          "base_uri": "https://localhost:8080/",
          "height": 204
        },
        "outputId": "842dc8ea-f2b5-4db3-dd7c-1909fe0b1963"
      },
      "source": [
        "d1.head()"
      ],
      "execution_count": 44,
      "outputs": [
        {
          "output_type": "execute_result",
          "data": {
            "text/html": [
              "<div>\n",
              "<style scoped>\n",
              "    .dataframe tbody tr th:only-of-type {\n",
              "        vertical-align: middle;\n",
              "    }\n",
              "\n",
              "    .dataframe tbody tr th {\n",
              "        vertical-align: top;\n",
              "    }\n",
              "\n",
              "    .dataframe thead th {\n",
              "        text-align: right;\n",
              "    }\n",
              "</style>\n",
              "<table border=\"1\" class=\"dataframe\">\n",
              "  <thead>\n",
              "    <tr style=\"text-align: right;\">\n",
              "      <th></th>\n",
              "      <th>Statement</th>\n",
              "      <th>Disorder</th>\n",
              "    </tr>\n",
              "  </thead>\n",
              "  <tbody>\n",
              "    <tr>\n",
              "      <th>0</th>\n",
              "      <td>I believe that others control what I think an...</td>\n",
              "      <td>Schizophrenia</td>\n",
              "    </tr>\n",
              "    <tr>\n",
              "      <th>1</th>\n",
              "      <td>I hear or see things that others do not hear ...</td>\n",
              "      <td>Schizophrenia</td>\n",
              "    </tr>\n",
              "    <tr>\n",
              "      <th>2</th>\n",
              "      <td>I feel it is very difficult for me to express...</td>\n",
              "      <td>Schizophrenia</td>\n",
              "    </tr>\n",
              "    <tr>\n",
              "      <th>3</th>\n",
              "      <td>I feel I share absolutely nothing in common w...</td>\n",
              "      <td>Schizophrenia</td>\n",
              "    </tr>\n",
              "    <tr>\n",
              "      <th>4</th>\n",
              "      <td>I believe in more than one thing about realit...</td>\n",
              "      <td>Schizophrenia</td>\n",
              "    </tr>\n",
              "  </tbody>\n",
              "</table>\n",
              "</div>"
            ],
            "text/plain": [
              "                                           Statement       Disorder\n",
              "0   I believe that others control what I think an...  Schizophrenia\n",
              "1   I hear or see things that others do not hear ...  Schizophrenia\n",
              "2   I feel it is very difficult for me to express...  Schizophrenia\n",
              "3   I feel I share absolutely nothing in common w...  Schizophrenia\n",
              "4   I believe in more than one thing about realit...  Schizophrenia"
            ]
          },
          "metadata": {
            "tags": []
          },
          "execution_count": 44
        }
      ]
    },
    {
      "cell_type": "code",
      "metadata": {
        "id": "fb43iXoByW84",
        "colab_type": "code",
        "colab": {
          "base_uri": "https://localhost:8080/",
          "height": 204
        },
        "outputId": "55c82fc8-b2a4-4127-fcf5-c0f93fa25ae9"
      },
      "source": [
        "d2.head()"
      ],
      "execution_count": 45,
      "outputs": [
        {
          "output_type": "execute_result",
          "data": {
            "text/html": [
              "<div>\n",
              "<style scoped>\n",
              "    .dataframe tbody tr th:only-of-type {\n",
              "        vertical-align: middle;\n",
              "    }\n",
              "\n",
              "    .dataframe tbody tr th {\n",
              "        vertical-align: top;\n",
              "    }\n",
              "\n",
              "    .dataframe thead th {\n",
              "        text-align: right;\n",
              "    }\n",
              "</style>\n",
              "<table border=\"1\" class=\"dataframe\">\n",
              "  <thead>\n",
              "    <tr style=\"text-align: right;\">\n",
              "      <th></th>\n",
              "      <th>Statement</th>\n",
              "      <th>Disorder</th>\n",
              "    </tr>\n",
              "  </thead>\n",
              "  <tbody>\n",
              "    <tr>\n",
              "      <th>0</th>\n",
              "      <td>I experience repetitive thoughts that cause m...</td>\n",
              "      <td>OCD</td>\n",
              "    </tr>\n",
              "    <tr>\n",
              "      <th>1</th>\n",
              "      <td>I have fear for germs</td>\n",
              "      <td>OCD</td>\n",
              "    </tr>\n",
              "    <tr>\n",
              "      <th>2</th>\n",
              "      <td>I engage in excessive cleaning</td>\n",
              "      <td>OCD</td>\n",
              "    </tr>\n",
              "    <tr>\n",
              "      <th>3</th>\n",
              "      <td>I experience the need to constantly check on s...</td>\n",
              "      <td>OCD</td>\n",
              "    </tr>\n",
              "    <tr>\n",
              "      <th>4</th>\n",
              "      <td>I experience intrusive thoughts that are aggre...</td>\n",
              "      <td>OCD</td>\n",
              "    </tr>\n",
              "  </tbody>\n",
              "</table>\n",
              "</div>"
            ],
            "text/plain": [
              "                                           Statement Disorder\n",
              "0   I experience repetitive thoughts that cause m...      OCD\n",
              "1                             I have fear for germs       OCD\n",
              "2                     I engage in excessive cleaning      OCD\n",
              "3  I experience the need to constantly check on s...      OCD\n",
              "4  I experience intrusive thoughts that are aggre...      OCD"
            ]
          },
          "metadata": {
            "tags": []
          },
          "execution_count": 45
        }
      ]
    },
    {
      "cell_type": "code",
      "metadata": {
        "id": "vqctE3GyypJn",
        "colab_type": "code",
        "colab": {
          "base_uri": "https://localhost:8080/",
          "height": 204
        },
        "outputId": "cf9d6a9e-0adf-4164-8368-3acabc161e05"
      },
      "source": [
        "d2.tail()"
      ],
      "execution_count": 46,
      "outputs": [
        {
          "output_type": "execute_result",
          "data": {
            "text/html": [
              "<div>\n",
              "<style scoped>\n",
              "    .dataframe tbody tr th:only-of-type {\n",
              "        vertical-align: middle;\n",
              "    }\n",
              "\n",
              "    .dataframe tbody tr th {\n",
              "        vertical-align: top;\n",
              "    }\n",
              "\n",
              "    .dataframe thead th {\n",
              "        text-align: right;\n",
              "    }\n",
              "</style>\n",
              "<table border=\"1\" class=\"dataframe\">\n",
              "  <thead>\n",
              "    <tr style=\"text-align: right;\">\n",
              "      <th></th>\n",
              "      <th>Statement</th>\n",
              "      <th>Disorder</th>\n",
              "    </tr>\n",
              "  </thead>\n",
              "  <tbody>\n",
              "    <tr>\n",
              "      <th>128</th>\n",
              "      <td>I was made with divine intention.</td>\n",
              "      <td>normal</td>\n",
              "    </tr>\n",
              "    <tr>\n",
              "      <th>129</th>\n",
              "      <td>I love being adventurous.</td>\n",
              "      <td>normal</td>\n",
              "    </tr>\n",
              "    <tr>\n",
              "      <th>130</th>\n",
              "      <td>I prefer black to white.</td>\n",
              "      <td>normal</td>\n",
              "    </tr>\n",
              "    <tr>\n",
              "      <th>131</th>\n",
              "      <td>I want to go out and eat.</td>\n",
              "      <td>normal</td>\n",
              "    </tr>\n",
              "    <tr>\n",
              "      <th>132</th>\n",
              "      <td>I go to temple every day</td>\n",
              "      <td>normal</td>\n",
              "    </tr>\n",
              "  </tbody>\n",
              "</table>\n",
              "</div>"
            ],
            "text/plain": [
              "                             Statement Disorder\n",
              "128  I was made with divine intention.   normal\n",
              "129          I love being adventurous.   normal\n",
              "130           I prefer black to white.   normal\n",
              "131          I want to go out and eat.   normal\n",
              "132           I go to temple every day   normal"
            ]
          },
          "metadata": {
            "tags": []
          },
          "execution_count": 46
        }
      ]
    },
    {
      "cell_type": "code",
      "metadata": {
        "id": "iiKD87yqyYmP",
        "colab_type": "code",
        "colab": {}
      },
      "source": [
        "d1=d1.append(d2,ignore_index=True)"
      ],
      "execution_count": 0,
      "outputs": []
    },
    {
      "cell_type": "code",
      "metadata": {
        "id": "XIIRgkfwzJRb",
        "colab_type": "code",
        "colab": {}
      },
      "source": [
        "d1=d1.append(d,ignore_index=True)"
      ],
      "execution_count": 0,
      "outputs": []
    },
    {
      "cell_type": "code",
      "metadata": {
        "id": "f-kWQYJxygeQ",
        "colab_type": "code",
        "colab": {
          "base_uri": "https://localhost:8080/",
          "height": 204
        },
        "outputId": "f88b081b-f912-4268-923b-7e6673ce7093"
      },
      "source": [
        "d1.head()"
      ],
      "execution_count": 49,
      "outputs": [
        {
          "output_type": "execute_result",
          "data": {
            "text/html": [
              "<div>\n",
              "<style scoped>\n",
              "    .dataframe tbody tr th:only-of-type {\n",
              "        vertical-align: middle;\n",
              "    }\n",
              "\n",
              "    .dataframe tbody tr th {\n",
              "        vertical-align: top;\n",
              "    }\n",
              "\n",
              "    .dataframe thead th {\n",
              "        text-align: right;\n",
              "    }\n",
              "</style>\n",
              "<table border=\"1\" class=\"dataframe\">\n",
              "  <thead>\n",
              "    <tr style=\"text-align: right;\">\n",
              "      <th></th>\n",
              "      <th>Statement</th>\n",
              "      <th>Disorder</th>\n",
              "    </tr>\n",
              "  </thead>\n",
              "  <tbody>\n",
              "    <tr>\n",
              "      <th>0</th>\n",
              "      <td>I believe that others control what I think an...</td>\n",
              "      <td>Schizophrenia</td>\n",
              "    </tr>\n",
              "    <tr>\n",
              "      <th>1</th>\n",
              "      <td>I hear or see things that others do not hear ...</td>\n",
              "      <td>Schizophrenia</td>\n",
              "    </tr>\n",
              "    <tr>\n",
              "      <th>2</th>\n",
              "      <td>I feel it is very difficult for me to express...</td>\n",
              "      <td>Schizophrenia</td>\n",
              "    </tr>\n",
              "    <tr>\n",
              "      <th>3</th>\n",
              "      <td>I feel I share absolutely nothing in common w...</td>\n",
              "      <td>Schizophrenia</td>\n",
              "    </tr>\n",
              "    <tr>\n",
              "      <th>4</th>\n",
              "      <td>I believe in more than one thing about realit...</td>\n",
              "      <td>Schizophrenia</td>\n",
              "    </tr>\n",
              "  </tbody>\n",
              "</table>\n",
              "</div>"
            ],
            "text/plain": [
              "                                           Statement       Disorder\n",
              "0   I believe that others control what I think an...  Schizophrenia\n",
              "1   I hear or see things that others do not hear ...  Schizophrenia\n",
              "2   I feel it is very difficult for me to express...  Schizophrenia\n",
              "3   I feel I share absolutely nothing in common w...  Schizophrenia\n",
              "4   I believe in more than one thing about realit...  Schizophrenia"
            ]
          },
          "metadata": {
            "tags": []
          },
          "execution_count": 49
        }
      ]
    },
    {
      "cell_type": "code",
      "metadata": {
        "id": "TwirOqvOyjl8",
        "colab_type": "code",
        "colab": {
          "base_uri": "https://localhost:8080/",
          "height": 204
        },
        "outputId": "42a6cd02-9aca-41a6-eb8c-3c6120074b4d"
      },
      "source": [
        "d1.tail()"
      ],
      "execution_count": 19,
      "outputs": [
        {
          "output_type": "execute_result",
          "data": {
            "text/html": [
              "<div>\n",
              "<style scoped>\n",
              "    .dataframe tbody tr th:only-of-type {\n",
              "        vertical-align: middle;\n",
              "    }\n",
              "\n",
              "    .dataframe tbody tr th {\n",
              "        vertical-align: top;\n",
              "    }\n",
              "\n",
              "    .dataframe thead th {\n",
              "        text-align: right;\n",
              "    }\n",
              "</style>\n",
              "<table border=\"1\" class=\"dataframe\">\n",
              "  <thead>\n",
              "    <tr style=\"text-align: right;\">\n",
              "      <th></th>\n",
              "      <th>Statement</th>\n",
              "      <th>Disorder</th>\n",
              "    </tr>\n",
              "  </thead>\n",
              "  <tbody>\n",
              "    <tr>\n",
              "      <th>458</th>\n",
              "      <td>I go to temple every day</td>\n",
              "      <td>normal</td>\n",
              "    </tr>\n",
              "    <tr>\n",
              "      <th>459</th>\n",
              "      <td>I am totally depressed and feel like committin...</td>\n",
              "      <td>bipolar</td>\n",
              "    </tr>\n",
              "    <tr>\n",
              "      <th>460</th>\n",
              "      <td>I am totally depressed</td>\n",
              "      <td>bipolar</td>\n",
              "    </tr>\n",
              "    <tr>\n",
              "      <th>461</th>\n",
              "      <td>I feel like committing suicide</td>\n",
              "      <td>bipolar</td>\n",
              "    </tr>\n",
              "    <tr>\n",
              "      <th>462</th>\n",
              "      <td>I am totally depressed and am feeling very happy</td>\n",
              "      <td>bipolar</td>\n",
              "    </tr>\n",
              "  </tbody>\n",
              "</table>\n",
              "</div>"
            ],
            "text/plain": [
              "                                             Statement Disorder\n",
              "458                           I go to temple every day   normal\n",
              "459  I am totally depressed and feel like committin...  bipolar\n",
              "460                            I am totally depressed   bipolar\n",
              "461                     I feel like committing suicide  bipolar\n",
              "462   I am totally depressed and am feeling very happy  bipolar"
            ]
          },
          "metadata": {
            "tags": []
          },
          "execution_count": 19
        }
      ]
    },
    {
      "cell_type": "code",
      "metadata": {
        "id": "iFlrpj8FylvB",
        "colab_type": "code",
        "colab": {}
      },
      "source": [
        "cols = d1.columns.tolist()"
      ],
      "execution_count": 0,
      "outputs": []
    },
    {
      "cell_type": "code",
      "metadata": {
        "id": "F6rDfqxPzmTV",
        "colab_type": "code",
        "colab": {}
      },
      "source": [
        "cols = cols[-1:] + cols[:-1]"
      ],
      "execution_count": 0,
      "outputs": []
    },
    {
      "cell_type": "code",
      "metadata": {
        "id": "VkYKAhTgzrRx",
        "colab_type": "code",
        "colab": {
          "base_uri": "https://localhost:8080/",
          "height": 34
        },
        "outputId": "7e50e8ef-1f0f-4ff0-ddf6-87dd31ddbd05"
      },
      "source": [
        "cols"
      ],
      "execution_count": 22,
      "outputs": [
        {
          "output_type": "execute_result",
          "data": {
            "text/plain": [
              "['Disorder', 'Statement']"
            ]
          },
          "metadata": {
            "tags": []
          },
          "execution_count": 22
        }
      ]
    },
    {
      "cell_type": "code",
      "metadata": {
        "id": "y30LieMGzrxy",
        "colab_type": "code",
        "colab": {}
      },
      "source": [
        "d1= d1[cols]"
      ],
      "execution_count": 0,
      "outputs": []
    },
    {
      "cell_type": "code",
      "metadata": {
        "id": "vpa-thHczwp7",
        "colab_type": "code",
        "colab": {
          "base_uri": "https://localhost:8080/",
          "height": 204
        },
        "outputId": "0b3a50e8-8e5f-4abc-c55f-ff2605f451e9"
      },
      "source": [
        "d1.head()"
      ],
      "execution_count": 50,
      "outputs": [
        {
          "output_type": "execute_result",
          "data": {
            "text/html": [
              "<div>\n",
              "<style scoped>\n",
              "    .dataframe tbody tr th:only-of-type {\n",
              "        vertical-align: middle;\n",
              "    }\n",
              "\n",
              "    .dataframe tbody tr th {\n",
              "        vertical-align: top;\n",
              "    }\n",
              "\n",
              "    .dataframe thead th {\n",
              "        text-align: right;\n",
              "    }\n",
              "</style>\n",
              "<table border=\"1\" class=\"dataframe\">\n",
              "  <thead>\n",
              "    <tr style=\"text-align: right;\">\n",
              "      <th></th>\n",
              "      <th>Statement</th>\n",
              "      <th>Disorder</th>\n",
              "    </tr>\n",
              "  </thead>\n",
              "  <tbody>\n",
              "    <tr>\n",
              "      <th>0</th>\n",
              "      <td>I believe that others control what I think an...</td>\n",
              "      <td>Schizophrenia</td>\n",
              "    </tr>\n",
              "    <tr>\n",
              "      <th>1</th>\n",
              "      <td>I hear or see things that others do not hear ...</td>\n",
              "      <td>Schizophrenia</td>\n",
              "    </tr>\n",
              "    <tr>\n",
              "      <th>2</th>\n",
              "      <td>I feel it is very difficult for me to express...</td>\n",
              "      <td>Schizophrenia</td>\n",
              "    </tr>\n",
              "    <tr>\n",
              "      <th>3</th>\n",
              "      <td>I feel I share absolutely nothing in common w...</td>\n",
              "      <td>Schizophrenia</td>\n",
              "    </tr>\n",
              "    <tr>\n",
              "      <th>4</th>\n",
              "      <td>I believe in more than one thing about realit...</td>\n",
              "      <td>Schizophrenia</td>\n",
              "    </tr>\n",
              "  </tbody>\n",
              "</table>\n",
              "</div>"
            ],
            "text/plain": [
              "                                           Statement       Disorder\n",
              "0   I believe that others control what I think an...  Schizophrenia\n",
              "1   I hear or see things that others do not hear ...  Schizophrenia\n",
              "2   I feel it is very difficult for me to express...  Schizophrenia\n",
              "3   I feel I share absolutely nothing in common w...  Schizophrenia\n",
              "4   I believe in more than one thing about realit...  Schizophrenia"
            ]
          },
          "metadata": {
            "tags": []
          },
          "execution_count": 50
        }
      ]
    },
    {
      "cell_type": "code",
      "metadata": {
        "id": "BlXzuhvz0Kth",
        "colab_type": "code",
        "colab": {
          "base_uri": "https://localhost:8080/",
          "height": 34
        },
        "outputId": "cd41fa11-9321-4f1d-ee5c-9c6562cb5467"
      },
      "source": [
        "d1[\"Disorder\"][35]"
      ],
      "execution_count": 29,
      "outputs": [
        {
          "output_type": "execute_result",
          "data": {
            "text/plain": [
              "'Schizophrenia'"
            ]
          },
          "metadata": {
            "tags": []
          },
          "execution_count": 29
        }
      ]
    },
    {
      "cell_type": "code",
      "metadata": {
        "id": "ppehpsLW0rIR",
        "colab_type": "code",
        "colab": {
          "base_uri": "https://localhost:8080/",
          "height": 204
        },
        "outputId": "b35c4efc-da9f-4866-fd66-a2a1c4bb22c6"
      },
      "source": [
        "d1.head()"
      ],
      "execution_count": 52,
      "outputs": [
        {
          "output_type": "execute_result",
          "data": {
            "text/html": [
              "<div>\n",
              "<style scoped>\n",
              "    .dataframe tbody tr th:only-of-type {\n",
              "        vertical-align: middle;\n",
              "    }\n",
              "\n",
              "    .dataframe tbody tr th {\n",
              "        vertical-align: top;\n",
              "    }\n",
              "\n",
              "    .dataframe thead th {\n",
              "        text-align: right;\n",
              "    }\n",
              "</style>\n",
              "<table border=\"1\" class=\"dataframe\">\n",
              "  <thead>\n",
              "    <tr style=\"text-align: right;\">\n",
              "      <th></th>\n",
              "      <th>text</th>\n",
              "      <th>label</th>\n",
              "    </tr>\n",
              "  </thead>\n",
              "  <tbody>\n",
              "    <tr>\n",
              "      <th>0</th>\n",
              "      <td>I believe that others control what I think an...</td>\n",
              "      <td>Schizophrenia</td>\n",
              "    </tr>\n",
              "    <tr>\n",
              "      <th>1</th>\n",
              "      <td>I hear or see things that others do not hear ...</td>\n",
              "      <td>Schizophrenia</td>\n",
              "    </tr>\n",
              "    <tr>\n",
              "      <th>2</th>\n",
              "      <td>I feel it is very difficult for me to express...</td>\n",
              "      <td>Schizophrenia</td>\n",
              "    </tr>\n",
              "    <tr>\n",
              "      <th>3</th>\n",
              "      <td>I feel I share absolutely nothing in common w...</td>\n",
              "      <td>Schizophrenia</td>\n",
              "    </tr>\n",
              "    <tr>\n",
              "      <th>4</th>\n",
              "      <td>I believe in more than one thing about realit...</td>\n",
              "      <td>Schizophrenia</td>\n",
              "    </tr>\n",
              "  </tbody>\n",
              "</table>\n",
              "</div>"
            ],
            "text/plain": [
              "                                                text          label\n",
              "0   I believe that others control what I think an...  Schizophrenia\n",
              "1   I hear or see things that others do not hear ...  Schizophrenia\n",
              "2   I feel it is very difficult for me to express...  Schizophrenia\n",
              "3   I feel I share absolutely nothing in common w...  Schizophrenia\n",
              "4   I believe in more than one thing about realit...  Schizophrenia"
            ]
          },
          "metadata": {
            "tags": []
          },
          "execution_count": 52
        }
      ]
    },
    {
      "cell_type": "code",
      "metadata": {
        "id": "Yq85yUxM01WV",
        "colab_type": "code",
        "colab": {}
      },
      "source": [
        "d1.columns = ['text', 'label']"
      ],
      "execution_count": 0,
      "outputs": []
    },
    {
      "cell_type": "code",
      "metadata": {
        "id": "Aukpd2_vzyDj",
        "colab_type": "code",
        "colab": {}
      },
      "source": [
        "d1.to_csv(\"maincybercons1.csv\")"
      ],
      "execution_count": 0,
      "outputs": []
    },
    {
      "cell_type": "code",
      "metadata": {
        "id": "lURrvSQ72w4d",
        "colab_type": "code",
        "colab": {}
      },
      "source": [
        "q=pd.read_csv(\"maincybercons1.csv\",index_col=\"label\")"
      ],
      "execution_count": 0,
      "outputs": []
    },
    {
      "cell_type": "code",
      "metadata": {
        "id": "ATVfzrAZ26n6",
        "colab_type": "code",
        "colab": {
          "base_uri": "https://localhost:8080/",
          "height": 235
        },
        "outputId": "00becbb9-dbef-44d8-8fe4-da80e35f770e"
      },
      "source": [
        "q.head()"
      ],
      "execution_count": 65,
      "outputs": [
        {
          "output_type": "execute_result",
          "data": {
            "text/html": [
              "<div>\n",
              "<style scoped>\n",
              "    .dataframe tbody tr th:only-of-type {\n",
              "        vertical-align: middle;\n",
              "    }\n",
              "\n",
              "    .dataframe tbody tr th {\n",
              "        vertical-align: top;\n",
              "    }\n",
              "\n",
              "    .dataframe thead th {\n",
              "        text-align: right;\n",
              "    }\n",
              "</style>\n",
              "<table border=\"1\" class=\"dataframe\">\n",
              "  <thead>\n",
              "    <tr style=\"text-align: right;\">\n",
              "      <th></th>\n",
              "      <th>text</th>\n",
              "    </tr>\n",
              "    <tr>\n",
              "      <th>label</th>\n",
              "      <th></th>\n",
              "    </tr>\n",
              "  </thead>\n",
              "  <tbody>\n",
              "    <tr>\n",
              "      <th>Schizophrenia</th>\n",
              "      <td>I believe that others control what I think an...</td>\n",
              "    </tr>\n",
              "    <tr>\n",
              "      <th>Schizophrenia</th>\n",
              "      <td>I hear or see things that others do not hear ...</td>\n",
              "    </tr>\n",
              "    <tr>\n",
              "      <th>Schizophrenia</th>\n",
              "      <td>I feel it is very difficult for me to express...</td>\n",
              "    </tr>\n",
              "    <tr>\n",
              "      <th>Schizophrenia</th>\n",
              "      <td>I feel I share absolutely nothing in common w...</td>\n",
              "    </tr>\n",
              "    <tr>\n",
              "      <th>Schizophrenia</th>\n",
              "      <td>I believe in more than one thing about realit...</td>\n",
              "    </tr>\n",
              "  </tbody>\n",
              "</table>\n",
              "</div>"
            ],
            "text/plain": [
              "                                                            text\n",
              "label                                                           \n",
              "Schizophrenia   I believe that others control what I think an...\n",
              "Schizophrenia   I hear or see things that others do not hear ...\n",
              "Schizophrenia   I feel it is very difficult for me to express...\n",
              "Schizophrenia   I feel I share absolutely nothing in common w...\n",
              "Schizophrenia   I believe in more than one thing about realit..."
            ]
          },
          "metadata": {
            "tags": []
          },
          "execution_count": 65
        }
      ]
    },
    {
      "cell_type": "code",
      "metadata": {
        "id": "eWg-AHai29uW",
        "colab_type": "code",
        "colab": {}
      },
      "source": [
        "q=q.drop(columns=['Unnamed: 0'])"
      ],
      "execution_count": 0,
      "outputs": []
    },
    {
      "cell_type": "code",
      "metadata": {
        "id": "mHAsA9_H3J0W",
        "colab_type": "code",
        "colab": {}
      },
      "source": [
        "q.to_csv(\"maincyberconsmain.csv\")"
      ],
      "execution_count": 0,
      "outputs": []
    },
    {
      "cell_type": "code",
      "metadata": {
        "id": "SHTq_dap0G9I",
        "colab_type": "code",
        "colab": {}
      },
      "source": [
        "path=\"\""
      ],
      "execution_count": 0,
      "outputs": []
    },
    {
      "cell_type": "code",
      "metadata": {
        "id": "P0f3Q8Z3z-vO",
        "colab_type": "code",
        "colab": {}
      },
      "source": [
        "data_lm = TextDataBunch.from_csv(path, 'maincyberconsmain.csv')"
      ],
      "execution_count": 0,
      "outputs": []
    },
    {
      "cell_type": "code",
      "metadata": {
        "id": "TLoVXWRR0H4k",
        "colab_type": "code",
        "colab": {}
      },
      "source": [
        "data_lm.save()"
      ],
      "execution_count": 0,
      "outputs": []
    },
    {
      "cell_type": "code",
      "metadata": {
        "id": "cph7BNoe0YN1",
        "colab_type": "code",
        "colab": {}
      },
      "source": [
        "data = load_data(path)"
      ],
      "execution_count": 0,
      "outputs": []
    },
    {
      "cell_type": "code",
      "metadata": {
        "id": "3ZjMVWtT0cGw",
        "colab_type": "code",
        "colab": {
          "base_uri": "https://localhost:8080/",
          "height": 289
        },
        "outputId": "80749539-70e7-4a6c-942d-16ce79853db7"
      },
      "source": [
        "data = TextClasDataBunch.from_csv(path, 'maincyberconsmain.csv')\n",
        "data.show_batch()"
      ],
      "execution_count": 71,
      "outputs": [
        {
          "output_type": "display_data",
          "data": {
            "text/html": [
              "<table border=\"1\" class=\"dataframe\">\n",
              "  <thead>\n",
              "    <tr style=\"text-align: right;\">\n",
              "      <th>text</th>\n",
              "      <th>target</th>\n",
              "    </tr>\n",
              "  </thead>\n",
              "  <tbody>\n",
              "    <tr>\n",
              "      <td>xxbos i feel like my mood is xxunk xxunk ( like i xxunk xxunk xxunk , high or “ feeling on xxunk of the world ! ” ) or xxunk irritable — and i have a lot more activity and energy that ’s xxunk most of the day , every day .</td>\n",
              "      <td>bipolar</td>\n",
              "    </tr>\n",
              "    <tr>\n",
              "      <td>xxbos i engage in xxunk activities — such as xxunk , xxunk in xxunk i know nothing about , xxunk without any particular xxunk or need , or xxunk in sex with people i do n’t really know — even xxunk i xxunk xxunk activities may result in xxunk</td>\n",
              "      <td>bipolar</td>\n",
              "    </tr>\n",
              "    <tr>\n",
              "      <td>xxbos i perform certain acts over and over again , such as xxunk routine actions ( in xxunk out of xxunk , going through xxunk , re - xxunk xxunk ) a certain xxunk of times or until it feels just right</td>\n",
              "      <td>OCD</td>\n",
              "    </tr>\n",
              "    <tr>\n",
              "      <td>xxbos i ca n't stop pacing or sit still xxunk or i find that my thinking , xxunk and xxunk are really much xxunk than usual ( like i xxunk xxunk a xxunk xxunk before i can xxunk a xxunk )</td>\n",
              "      <td>bipolar</td>\n",
              "    </tr>\n",
              "    <tr>\n",
              "      <td>xxbos xxmaj despite xxunk no experience or particular xxunk , i feel like i can do anything i xxunk my mind to , such as xxunk something i know very little about or writing a xxunk xxunk in xxunk music .</td>\n",
              "      <td>bipolar</td>\n",
              "    </tr>\n",
              "  </tbody>\n",
              "</table>"
            ],
            "text/plain": [
              "<IPython.core.display.HTML object>"
            ]
          },
          "metadata": {
            "tags": []
          }
        }
      ]
    },
    {
      "cell_type": "code",
      "metadata": {
        "id": "5nh-N-wh0hQP",
        "colab_type": "code",
        "colab": {
          "base_uri": "https://localhost:8080/",
          "height": 34
        },
        "outputId": "37ff353b-ccda-40c4-cf86-86fe085f61e1"
      },
      "source": [
        "data.train_ds.classes"
      ],
      "execution_count": 72,
      "outputs": [
        {
          "output_type": "execute_result",
          "data": {
            "text/plain": [
              "['OCD', 'Schizophrenia', 'bipolar', 'normal']"
            ]
          },
          "metadata": {
            "tags": []
          },
          "execution_count": 72
        }
      ]
    },
    {
      "cell_type": "code",
      "metadata": {
        "id": "mI62p0R22dGX",
        "colab_type": "code",
        "colab": {
          "base_uri": "https://localhost:8080/",
          "height": 34
        },
        "outputId": "48a30ea5-1a86-43ae-c99a-0f8b7764c61a"
      },
      "source": [
        "data.valid_ds.classes"
      ],
      "execution_count": 73,
      "outputs": [
        {
          "output_type": "execute_result",
          "data": {
            "text/plain": [
              "['OCD', 'Schizophrenia', 'bipolar', 'normal']"
            ]
          },
          "metadata": {
            "tags": []
          },
          "execution_count": 73
        }
      ]
    },
    {
      "cell_type": "code",
      "metadata": {
        "id": "k9hSTF0l3W5S",
        "colab_type": "code",
        "colab": {
          "base_uri": "https://localhost:8080/",
          "height": 34
        },
        "outputId": "ea3b7a6f-b16a-4e9b-e035-da3c7f913c26"
      },
      "source": [
        "data.train_ds[0][0]"
      ],
      "execution_count": 74,
      "outputs": [
        {
          "output_type": "execute_result",
          "data": {
            "text/plain": [
              "Text xxbos xxmaj my mood is refreshing"
            ]
          },
          "metadata": {
            "tags": []
          },
          "execution_count": 74
        }
      ]
    },
    {
      "cell_type": "code",
      "metadata": {
        "id": "hHyVgdtV3cqj",
        "colab_type": "code",
        "colab": {
          "base_uri": "https://localhost:8080/",
          "height": 34
        },
        "outputId": "e080d978-0285-43b5-e244-f39ae4f684fd"
      },
      "source": [
        "data.train_ds[0][0].data[:10]"
      ],
      "execution_count": 75,
      "outputs": [
        {
          "output_type": "execute_result",
          "data": {
            "text/plain": [
              "array([  2,   5,  13, 111,  30, 180])"
            ]
          },
          "metadata": {
            "tags": []
          },
          "execution_count": 75
        }
      ]
    },
    {
      "cell_type": "code",
      "metadata": {
        "id": "MDdXkEf16JvX",
        "colab_type": "code",
        "colab": {}
      },
      "source": [
        "bs=24"
      ],
      "execution_count": 0,
      "outputs": []
    },
    {
      "cell_type": "code",
      "metadata": {
        "id": "aaH6DyKS5468",
        "colab_type": "code",
        "colab": {}
      },
      "source": [
        "data_lm = (TextList.from_csv(path,'maincyberconsmain.csv', cols='text')\n",
        "           #We may have other temp folders that contain text files so we only keep what's in train and test\n",
        "            .split_by_rand_pct(0.1)\n",
        "           #We randomly split and keep 10% (10,000 reviews) for validation\n",
        "            .label_for_lm()      \n",
        "            .databunch(bs=bs))\n",
        "data_lm.save('data_lm.pkl')"
      ],
      "execution_count": 0,
      "outputs": []
    },
    {
      "cell_type": "code",
      "metadata": {
        "id": "DSIrfoit6QRu",
        "colab_type": "code",
        "colab": {}
      },
      "source": [
        "data_lm = load_data(path, 'data_lm.pkl', bs=bs)"
      ],
      "execution_count": 0,
      "outputs": []
    },
    {
      "cell_type": "code",
      "metadata": {
        "id": "GC88V4WL6QMP",
        "colab_type": "code",
        "colab": {
          "base_uri": "https://localhost:8080/",
          "height": 374
        },
        "outputId": "fd955716-62e4-45b5-8470-7933a0e3cd52"
      },
      "source": [
        "data_lm.show_batch()"
      ],
      "execution_count": 79,
      "outputs": [
        {
          "output_type": "display_data",
          "data": {
            "text/html": [
              "<table border=\"1\" class=\"dataframe\">\n",
              "  <thead>\n",
              "    <tr style=\"text-align: right;\">\n",
              "      <th>idx</th>\n",
              "      <th>text</th>\n",
              "    </tr>\n",
              "  </thead>\n",
              "  <tbody>\n",
              "    <tr>\n",
              "      <td>0</td>\n",
              "      <td>xxunk about xxunk and the world around me that nobody else xxunk to believe in . xxbos xxmaj others do n’t believe me when i xxunk them the things i see or hear . xxbos i ca n’t trust what i xxunk thinking because i do n’t know if it ’s real or not . xxbos i have xxunk powers that nobody else xxunk or can xxunk . xxbos xxmaj</td>\n",
              "    </tr>\n",
              "    <tr>\n",
              "      <td>1</td>\n",
              "      <td>to xxunk or keep xxunk of your thinking xxbos people say that it is difficult for me to xxunk on xxunk or for them to understand me xxbos i feel that i have little in xxunk with family and friends xxbos i feel that i am xxunk , xxunk , or watched at xxunk or xxunk xxbos xxmaj other people have a difficult time xxunk your emotions by my xxunk</td>\n",
              "    </tr>\n",
              "    <tr>\n",
              "      <td>2</td>\n",
              "      <td>i sometimes find that something xxunk or xxunk my thoughts , xxunk , or actions . xxbos i sometimes feel xxunk xxunk xxunk , as if i do n’t feel anything . xxbos i have difficulty getting xxunk xxunk to complete xxunk xxunk of daily activity . xxbos i think i may be able to xxunk what will xxunk in the xxunk . xxbos i have been xxunk with a</td>\n",
              "    </tr>\n",
              "    <tr>\n",
              "      <td>3</td>\n",
              "      <td>i feel i have the xxunk to xxunk the xxunk world . xxbos xxmaj sometimes i am xxunk xxunk thoughts . xxbos xxmaj sometimes i get angry , getting xxunk and xxunk xxunk even just xxunk a xxunk xxunk . xxbos i am xxunk in the same xxunk for a xxunk time . xxbos i xxunk xxunk a xxunk or xxunk made by someone else , or xxunk the words</td>\n",
              "    </tr>\n",
              "    <tr>\n",
              "      <td>4</td>\n",
              "      <td>i feel xxunk to xxunk my ideas because i ca n't trust xxunk the xxunk is real or not . xxbos i am xxunk xxunk because other people do not like my special xxunk . xxbos i feel xxunk xxunk xxunk for my xxunk actions . xxbos xxmaj hello , xxmaj my name is xyz xxbos i just had my breakfast xxbos i just had my lunch xxbos i just</td>\n",
              "    </tr>\n",
              "  </tbody>\n",
              "</table>"
            ],
            "text/plain": [
              "<IPython.core.display.HTML object>"
            ]
          },
          "metadata": {
            "tags": []
          }
        }
      ]
    },
    {
      "cell_type": "code",
      "metadata": {
        "id": "bE6idNj76QJP",
        "colab_type": "code",
        "colab": {}
      },
      "source": [
        "learn = language_model_learner(data_lm, AWD_LSTM, drop_mult=0.3, pretrained=True)"
      ],
      "execution_count": 0,
      "outputs": []
    },
    {
      "cell_type": "code",
      "metadata": {
        "id": "eLwTbvJb6QGB",
        "colab_type": "code",
        "colab": {
          "base_uri": "https://localhost:8080/",
          "height": 300
        },
        "outputId": "31b67b7e-0748-4549-896d-bb1710021e9a"
      },
      "source": [
        "learn.lr_find()\n",
        "learn.recorder.plot(skip_end=15)"
      ],
      "execution_count": 81,
      "outputs": [
        {
          "output_type": "display_data",
          "data": {
            "text/html": [
              ""
            ],
            "text/plain": [
              "<IPython.core.display.HTML object>"
            ]
          },
          "metadata": {
            "tags": []
          }
        },
        {
          "output_type": "stream",
          "text": [
            "LR Finder is complete, type {learner_name}.recorder.plot() to see the graph.\n"
          ],
          "name": "stdout"
        },
        {
          "output_type": "display_data",
          "data": {
            "image/png": "[encoded data removed]",
            "text/plain": [
              "<Figure size 432x288 with 1 Axes>"
            ]
          },
          "metadata": {
            "tags": []
          }
        }
      ]
    },
    {
      "cell_type": "code",
      "metadata": {
        "id": "FafH3kOR6QCL",
        "colab_type": "code",
        "colab": {
          "base_uri": "https://localhost:8080/",
          "height": 80
        },
        "outputId": "ccc06fa9-533d-49a0-eb7a-3f255eadaad2"
      },
      "source": [
        "learn.fit_one_cycle(1, 1e-2, moms=(0.8,0.7))"
      ],
      "execution_count": 82,
      "outputs": [
        {
          "output_type": "display_data",
          "data": {
            "text/html": [
              "<table border=\"1\" class=\"dataframe\">\n",
              "  <thead>\n",
              "    <tr style=\"text-align: left;\">\n",
              "      <th>epoch</th>\n",
              "      <th>train_loss</th>\n",
              "      <th>valid_loss</th>\n",
              "      <th>accuracy</th>\n",
              "      <th>time</th>\n",
              "    </tr>\n",
              "  </thead>\n",
              "  <tbody>\n",
              "    <tr>\n",
              "      <td>0</td>\n",
              "      <td>4.871073</td>\n",
              "      <td>3.799115</td>\n",
              "      <td>0.223810</td>\n",
              "      <td>00:00</td>\n",
              "    </tr>\n",
              "  </tbody>\n",
              "</table>"
            ],
            "text/plain": [
              "<IPython.core.display.HTML object>"
            ]
          },
          "metadata": {
            "tags": []
          }
        }
      ]
    },
    {
      "cell_type": "code",
      "metadata": {
        "id": "nZw7jcAT6P-l",
        "colab_type": "code",
        "colab": {}
      },
      "source": [
        "learn.unfreeze()"
      ],
      "execution_count": 0,
      "outputs": []
    },
    {
      "cell_type": "code",
      "metadata": {
        "id": "wGpXh6Qy6P6k",
        "colab_type": "code",
        "colab": {
          "base_uri": "https://localhost:8080/",
          "height": 300
        },
        "outputId": "d55d8430-12c6-4ff4-d0ca-1e74f5a4a193"
      },
      "source": [
        "learn.lr_find()\n",
        "learn.recorder.plot(skip_end=15)"
      ],
      "execution_count": 84,
      "outputs": [
        {
          "output_type": "display_data",
          "data": {
            "text/html": [
              ""
            ],
            "text/plain": [
              "<IPython.core.display.HTML object>"
            ]
          },
          "metadata": {
            "tags": []
          }
        },
        {
          "output_type": "stream",
          "text": [
            "LR Finder is complete, type {learner_name}.recorder.plot() to see the graph.\n"
          ],
          "name": "stdout"
        },
        {
          "output_type": "display_data",
          "data": {
            "image/png": "[encoded data removed]",
            "text/plain": [
              "<Figure size 432x288 with 1 Axes>"
            ]
          },
          "metadata": {
            "tags": []
          }
        }
      ]
    },
    {
      "cell_type": "code",
      "metadata": {
        "id": "V_BzjDPJ6P3L",
        "colab_type": "code",
        "colab": {
          "base_uri": "https://localhost:8080/",
          "height": 204
        },
        "outputId": "65474e36-eba3-407b-9a61-d0617ce00dde"
      },
      "source": [
        "learn.fit_one_cycle(5, 1e-2, moms=(0.8,0.7))"
      ],
      "execution_count": 85,
      "outputs": [
        {
          "output_type": "display_data",
          "data": {
            "text/html": [
              "<table border=\"1\" class=\"dataframe\">\n",
              "  <thead>\n",
              "    <tr style=\"text-align: left;\">\n",
              "      <th>epoch</th>\n",
              "      <th>train_loss</th>\n",
              "      <th>valid_loss</th>\n",
              "      <th>accuracy</th>\n",
              "      <th>time</th>\n",
              "    </tr>\n",
              "  </thead>\n",
              "  <tbody>\n",
              "    <tr>\n",
              "      <td>0</td>\n",
              "      <td>4.253306</td>\n",
              "      <td>3.488278</td>\n",
              "      <td>0.336905</td>\n",
              "      <td>00:00</td>\n",
              "    </tr>\n",
              "    <tr>\n",
              "      <td>1</td>\n",
              "      <td>3.810161</td>\n",
              "      <td>2.723856</td>\n",
              "      <td>0.395833</td>\n",
              "      <td>00:00</td>\n",
              "    </tr>\n",
              "    <tr>\n",
              "      <td>2</td>\n",
              "      <td>3.365278</td>\n",
              "      <td>2.470927</td>\n",
              "      <td>0.438691</td>\n",
              "      <td>00:00</td>\n",
              "    </tr>\n",
              "    <tr>\n",
              "      <td>3</td>\n",
              "      <td>2.981050</td>\n",
              "      <td>2.257555</td>\n",
              "      <td>0.477976</td>\n",
              "      <td>00:00</td>\n",
              "    </tr>\n",
              "    <tr>\n",
              "      <td>4</td>\n",
              "      <td>2.687305</td>\n",
              "      <td>2.213123</td>\n",
              "      <td>0.494643</td>\n",
              "      <td>00:00</td>\n",
              "    </tr>\n",
              "  </tbody>\n",
              "</table>"
            ],
            "text/plain": [
              "<IPython.core.display.HTML object>"
            ]
          },
          "metadata": {
            "tags": []
          }
        }
      ]
    },
    {
      "cell_type": "code",
      "metadata": {
        "id": "TdnqNA7a6Pzy",
        "colab_type": "code",
        "colab": {
          "base_uri": "https://localhost:8080/",
          "height": 111
        },
        "outputId": "6568a19c-d915-4118-c570-a781288d6f8c"
      },
      "source": [
        "learn.fit_one_cycle(2, 1e-2, moms=(0.8,0.7))"
      ],
      "execution_count": 86,
      "outputs": [
        {
          "output_type": "display_data",
          "data": {
            "text/html": [
              "<table border=\"1\" class=\"dataframe\">\n",
              "  <thead>\n",
              "    <tr style=\"text-align: left;\">\n",
              "      <th>epoch</th>\n",
              "      <th>train_loss</th>\n",
              "      <th>valid_loss</th>\n",
              "      <th>accuracy</th>\n",
              "      <th>time</th>\n",
              "    </tr>\n",
              "  </thead>\n",
              "  <tbody>\n",
              "    <tr>\n",
              "      <td>0</td>\n",
              "      <td>1.589886</td>\n",
              "      <td>2.163813</td>\n",
              "      <td>0.513095</td>\n",
              "      <td>00:00</td>\n",
              "    </tr>\n",
              "    <tr>\n",
              "      <td>1</td>\n",
              "      <td>1.401068</td>\n",
              "      <td>2.127441</td>\n",
              "      <td>0.522619</td>\n",
              "      <td>00:00</td>\n",
              "    </tr>\n",
              "  </tbody>\n",
              "</table>"
            ],
            "text/plain": [
              "<IPython.core.display.HTML object>"
            ]
          },
          "metadata": {
            "tags": []
          }
        }
      ]
    },
    {
      "cell_type": "code",
      "metadata": {
        "id": "_7ejhXYS6PwM",
        "colab_type": "code",
        "colab": {}
      },
      "source": [
        "learn.save('finetuned')"
      ],
      "execution_count": 0,
      "outputs": []
    },
    {
      "cell_type": "code",
      "metadata": {
        "id": "IXVyeY0n6PsX",
        "colab_type": "code",
        "colab": {}
      },
      "source": [
        "TEXT = \"I am feeling happy\"\n",
        "N_WORDS = 30\n",
        "N_SENTENCES = 2"
      ],
      "execution_count": 0,
      "outputs": []
    },
    {
      "cell_type": "code",
      "metadata": {
        "id": "X14XYipB6PfK",
        "colab_type": "code",
        "colab": {
          "base_uri": "https://localhost:8080/",
          "height": 71
        },
        "outputId": "77187e59-7691-4a0f-8daf-9bed35e0d822"
      },
      "source": [
        "print(\"\\n\".join(learn.predict(TEXT, N_WORDS, temperature=0.75) for _ in range(N_SENTENCES)))"
      ],
      "execution_count": 92,
      "outputs": [
        {
          "output_type": "stream",
          "text": [
            "I am feeling happy xxbos My hobbies are playing , watching tv , reading books xxbos It is generous in the evening xxbos i prefer being simple xxbos i am so happy\n",
            "I am feeling happy xxbos i am not sleepy xxbos i am not depressed xxbos i prefer being simple xxbos i am very excited to complete this with lot of ease . xxbos\n"
          ],
          "name": "stdout"
        }
      ]
    },
    {
      "cell_type": "code",
      "metadata": {
        "id": "FbL7G31j79ci",
        "colab_type": "code",
        "colab": {}
      },
      "source": [
        "learn.save_encoder('w')"
      ],
      "execution_count": 0,
      "outputs": []
    },
    {
      "cell_type": "code",
      "metadata": {
        "id": "1UFgn9A179SP",
        "colab_type": "code",
        "colab": {}
      },
      "source": [
        "data_clas = (TextList.from_csv(path,'maincyberconsmain.csv', cols='text',vocab=data_lm.vocab)\n",
        "             .split_by_rand_pct()\n",
        "             .label_from_df(cols='label')\n",
        "             .databunch(bs=bs))\n",
        "\n",
        "data_clas.save('data_clas.pkl')"
      ],
      "execution_count": 0,
      "outputs": []
    },
    {
      "cell_type": "code",
      "metadata": {
        "id": "TxMDES0G79Ki",
        "colab_type": "code",
        "colab": {
          "base_uri": "https://localhost:8080/",
          "height": 289
        },
        "outputId": "70a2dc50-ac6d-44ec-ffdf-f676524c1a19"
      },
      "source": [
        "data_clas = load_data(path, 'data_clas.pkl', bs=bs)\n",
        "data_clas.show_batch()"
      ],
      "execution_count": 97,
      "outputs": [
        {
          "output_type": "display_data",
          "data": {
            "text/html": [
              "<table border=\"1\" class=\"dataframe\">\n",
              "  <thead>\n",
              "    <tr style=\"text-align: right;\">\n",
              "      <th>text</th>\n",
              "      <th>target</th>\n",
              "    </tr>\n",
              "  </thead>\n",
              "  <tbody>\n",
              "    <tr>\n",
              "      <td>xxbos i feel like my mood is xxunk xxunk ( like i xxunk xxunk xxunk , high or “ feeling on xxunk of the world ! ” ) or xxunk irritable — and i have a lot more activity and energy that ’s xxunk most of the day , every day .</td>\n",
              "      <td>bipolar</td>\n",
              "    </tr>\n",
              "    <tr>\n",
              "      <td>xxbos i engage in xxunk activities — such as xxunk , xxunk in xxunk i know nothing about , xxunk without xxunk xxunk xxunk or need , or xxunk in sex with people i do n’t xxunk know — even xxunk i xxunk xxunk activities may result in xxunk</td>\n",
              "      <td>bipolar</td>\n",
              "    </tr>\n",
              "    <tr>\n",
              "      <td>xxbos i worry about xxunk on an xxunk and xxunk xxunk or xxunk , such as xxunk xxunk a loved one , xxunk a xxunk in xxunk of a xxunk , xxunk my car into xxunk xxunk ; xxunk xxunk xxunk ; or xxunk dinner xxunk</td>\n",
              "      <td>OCD</td>\n",
              "    </tr>\n",
              "    <tr>\n",
              "      <td>xxbos i perform certain acts over and over again , such as xxunk routine actions ( in xxunk out of xxunk , going through xxunk , re - xxunk xxunk ) a certain xxunk of times or xxunk it xxunk just xxunk</td>\n",
              "      <td>OCD</td>\n",
              "    </tr>\n",
              "    <tr>\n",
              "      <td>xxbos i ca n't xxunk xxunk or sit xxunk xxunk or i find that my thinking , xxunk and xxunk are xxunk much xxunk than usual ( like i xxunk xxunk a xxunk xxunk before i can xxunk a xxunk )</td>\n",
              "      <td>bipolar</td>\n",
              "    </tr>\n",
              "  </tbody>\n",
              "</table>"
            ],
            "text/plain": [
              "<IPython.core.display.HTML object>"
            ]
          },
          "metadata": {
            "tags": []
          }
        }
      ]
    },
    {
      "cell_type": "code",
      "metadata": {
        "id": "Djfji4U178-G",
        "colab_type": "code",
        "colab": {}
      },
      "source": [
        "learn = text_classifier_learner(data_clas, AWD_LSTM, drop_mult=0.5)\n",
        "learn.load_encoder('w')\n",
        "learn.freeze()"
      ],
      "execution_count": 0,
      "outputs": []
    },
    {
      "cell_type": "code",
      "metadata": {
        "id": "KYHWelck78v7",
        "colab_type": "code",
        "colab": {
          "base_uri": "https://localhost:8080/",
          "height": 34
        },
        "outputId": "f6844f7d-11be-4e7e-fbfe-ec351577b795"
      },
      "source": [
        "learn.lr_find()"
      ],
      "execution_count": 99,
      "outputs": [
        {
          "output_type": "display_data",
          "data": {
            "text/html": [
              ""
            ],
            "text/plain": [
              "<IPython.core.display.HTML object>"
            ]
          },
          "metadata": {
            "tags": []
          }
        },
        {
          "output_type": "stream",
          "text": [
            "LR Finder is complete, type {learner_name}.recorder.plot() to see the graph.\n"
          ],
          "name": "stdout"
        }
      ]
    },
    {
      "cell_type": "code",
      "metadata": {
        "id": "916klcT278lA",
        "colab_type": "code",
        "colab": {
          "base_uri": "https://localhost:8080/",
          "height": 283
        },
        "outputId": "d3d3b2e6-9dc0-4907-c0ba-3a7f4689331c"
      },
      "source": [
        "learn.recorder.plot()"
      ],
      "execution_count": 100,
      "outputs": [
        {
          "output_type": "display_data",
          "data": {
            "image/png": "[encoded data removed]",
            "text/plain": [
              "<Figure size 432x288 with 1 Axes>"
            ]
          },
          "metadata": {
            "tags": []
          }
        }
      ]
    },
    {
      "cell_type": "code",
      "metadata": {
        "id": "Evi2Q3lu78ZW",
        "colab_type": "code",
        "colab": {
          "base_uri": "https://localhost:8080/",
          "height": 80
        },
        "outputId": "2ebdab1a-14ed-4ea8-ba9a-1d6b0a58f150"
      },
      "source": [
        "learn.fit_one_cycle(1, 3e-2, moms=(0.8,0.7))"
      ],
      "execution_count": 101,
      "outputs": [
        {
          "output_type": "display_data",
          "data": {
            "text/html": [
              "<table border=\"1\" class=\"dataframe\">\n",
              "  <thead>\n",
              "    <tr style=\"text-align: left;\">\n",
              "      <th>epoch</th>\n",
              "      <th>train_loss</th>\n",
              "      <th>valid_loss</th>\n",
              "      <th>accuracy</th>\n",
              "      <th>time</th>\n",
              "    </tr>\n",
              "  </thead>\n",
              "  <tbody>\n",
              "    <tr>\n",
              "      <td>0</td>\n",
              "      <td>0.998957</td>\n",
              "      <td>0.850285</td>\n",
              "      <td>0.706522</td>\n",
              "      <td>00:00</td>\n",
              "    </tr>\n",
              "  </tbody>\n",
              "</table>"
            ],
            "text/plain": [
              "<IPython.core.display.HTML object>"
            ]
          },
          "metadata": {
            "tags": []
          }
        }
      ]
    },
    {
      "cell_type": "code",
      "metadata": {
        "id": "ZY7EWCJs78Kp",
        "colab_type": "code",
        "colab": {}
      },
      "source": [
        "learn.save('first')"
      ],
      "execution_count": 0,
      "outputs": []
    },
    {
      "cell_type": "code",
      "metadata": {
        "id": "k0H_8U4c77y8",
        "colab_type": "code",
        "colab": {}
      },
      "source": [
        "learn.load('first');"
      ],
      "execution_count": 0,
      "outputs": []
    },
    {
      "cell_type": "code",
      "metadata": {
        "id": "DNNH7KGU-GhJ",
        "colab_type": "code",
        "colab": {
          "base_uri": "https://localhost:8080/",
          "height": 80
        },
        "outputId": "9acfbf03-2e26-4ed1-ea65-ddb6ed622d5d"
      },
      "source": [
        "learn.freeze_to(-2)\n",
        "learn.fit_one_cycle(1, slice(1e-2/(2.6**4),1e-2), moms=(0.8,0.7))"
      ],
      "execution_count": 104,
      "outputs": [
        {
          "output_type": "display_data",
          "data": {
            "text/html": [
              "<table border=\"1\" class=\"dataframe\">\n",
              "  <thead>\n",
              "    <tr style=\"text-align: left;\">\n",
              "      <th>epoch</th>\n",
              "      <th>train_loss</th>\n",
              "      <th>valid_loss</th>\n",
              "      <th>accuracy</th>\n",
              "      <th>time</th>\n",
              "    </tr>\n",
              "  </thead>\n",
              "  <tbody>\n",
              "    <tr>\n",
              "      <td>0</td>\n",
              "      <td>0.788299</td>\n",
              "      <td>0.566513</td>\n",
              "      <td>0.815217</td>\n",
              "      <td>00:00</td>\n",
              "    </tr>\n",
              "  </tbody>\n",
              "</table>"
            ],
            "text/plain": [
              "<IPython.core.display.HTML object>"
            ]
          },
          "metadata": {
            "tags": []
          }
        }
      ]
    },
    {
      "cell_type": "code",
      "metadata": {
        "id": "G2giquJv-GS7",
        "colab_type": "code",
        "colab": {}
      },
      "source": [
        "learn.save('second')"
      ],
      "execution_count": 0,
      "outputs": []
    },
    {
      "cell_type": "code",
      "metadata": {
        "id": "CnO_v2RL-GC9",
        "colab_type": "code",
        "colab": {}
      },
      "source": [
        "learn.load('second');"
      ],
      "execution_count": 0,
      "outputs": []
    },
    {
      "cell_type": "code",
      "metadata": {
        "id": "wrwNCs2d-Zfm",
        "colab_type": "code",
        "colab": {
          "base_uri": "https://localhost:8080/",
          "height": 80
        },
        "outputId": "152b3528-4d40-4308-b971-169f2cbf25c6"
      },
      "source": [
        "learn.freeze_to(-3)\n",
        "learn.fit_one_cycle(1, slice(5e-3/(2.6**4),5e-3), moms=(0.8,0.7))"
      ],
      "execution_count": 107,
      "outputs": [
        {
          "output_type": "display_data",
          "data": {
            "text/html": [
              "<table border=\"1\" class=\"dataframe\">\n",
              "  <thead>\n",
              "    <tr style=\"text-align: left;\">\n",
              "      <th>epoch</th>\n",
              "      <th>train_loss</th>\n",
              "      <th>valid_loss</th>\n",
              "      <th>accuracy</th>\n",
              "      <th>time</th>\n",
              "    </tr>\n",
              "  </thead>\n",
              "  <tbody>\n",
              "    <tr>\n",
              "      <td>0</td>\n",
              "      <td>0.637240</td>\n",
              "      <td>0.492555</td>\n",
              "      <td>0.847826</td>\n",
              "      <td>00:00</td>\n",
              "    </tr>\n",
              "  </tbody>\n",
              "</table>"
            ],
            "text/plain": [
              "<IPython.core.display.HTML object>"
            ]
          },
          "metadata": {
            "tags": []
          }
        }
      ]
    },
    {
      "cell_type": "code",
      "metadata": {
        "id": "dXOlENGq-ZPU",
        "colab_type": "code",
        "colab": {}
      },
      "source": [
        "learn.save('third')"
      ],
      "execution_count": 0,
      "outputs": []
    },
    {
      "cell_type": "code",
      "metadata": {
        "id": "_8fYAEj--usr",
        "colab_type": "code",
        "colab": {
          "base_uri": "https://localhost:8080/",
          "height": 142
        },
        "outputId": "325b39de-4067-4212-cf7c-dff8872cde2c"
      },
      "source": [
        "learn.unfreeze()\n",
        "learn.fit_one_cycle(3, slice(1e-3/(2.6**4),1e-3), moms=(0.8,0.7))"
      ],
      "execution_count": 109,
      "outputs": [
        {
          "output_type": "display_data",
          "data": {
            "text/html": [
              "<table border=\"1\" class=\"dataframe\">\n",
              "  <thead>\n",
              "    <tr style=\"text-align: left;\">\n",
              "      <th>epoch</th>\n",
              "      <th>train_loss</th>\n",
              "      <th>valid_loss</th>\n",
              "      <th>accuracy</th>\n",
              "      <th>time</th>\n",
              "    </tr>\n",
              "  </thead>\n",
              "  <tbody>\n",
              "    <tr>\n",
              "      <td>0</td>\n",
              "      <td>0.496209</td>\n",
              "      <td>0.423888</td>\n",
              "      <td>0.869565</td>\n",
              "      <td>00:00</td>\n",
              "    </tr>\n",
              "    <tr>\n",
              "      <td>1</td>\n",
              "      <td>0.486243</td>\n",
              "      <td>0.375844</td>\n",
              "      <td>0.880435</td>\n",
              "      <td>00:00</td>\n",
              "    </tr>\n",
              "    <tr>\n",
              "      <td>2</td>\n",
              "      <td>0.453947</td>\n",
              "      <td>0.373289</td>\n",
              "      <td>0.880435</td>\n",
              "      <td>00:00</td>\n",
              "    </tr>\n",
              "  </tbody>\n",
              "</table>"
            ],
            "text/plain": [
              "<IPython.core.display.HTML object>"
            ]
          },
          "metadata": {
            "tags": []
          }
        }
      ]
    },
    {
      "cell_type": "code",
      "metadata": {
        "id": "DUMBM5cE-ufn",
        "colab_type": "code",
        "colab": {
          "base_uri": "https://localhost:8080/",
          "height": 34
        },
        "outputId": "7d907f93-8066-46be-9251-5f1615393679"
      },
      "source": [
        "learn.predict(\"I was tensed that I would fail the examination\")"
      ],
      "execution_count": 111,
      "outputs": [
        {
          "output_type": "execute_result",
          "data": {
            "text/plain": [
              "(Category normal, tensor(3), tensor([0.0165, 0.0392, 0.0046, 0.9397]))"
            ]
          },
          "metadata": {
            "tags": []
          },
          "execution_count": 111
        }
      ]
    },
    {
      "cell_type": "code",
      "metadata": {
        "id": "fL5qYICI-uUa",
        "colab_type": "code",
        "colab": {}
      },
      "source": [
        "learn.save('qwerty')"
      ],
      "execution_count": 0,
      "outputs": []
    },
    {
      "cell_type": "code",
      "metadata": {
        "id": "-U9B0e92-uHV",
        "colab_type": "code",
        "colab": {}
      },
      "source": [
        ""
      ],
      "execution_count": 0,
      "outputs": []
    },
    {
      "cell_type": "code",
      "metadata": {
        "id": "tcUz1Xdp77EI",
        "colab_type": "code",
        "colab": {}
      },
      "source": [
        ""
      ],
      "execution_count": 0,
      "outputs": []
    }
  ]
}